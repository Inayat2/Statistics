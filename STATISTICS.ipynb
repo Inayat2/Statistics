{
  "nbformat": 4,
  "nbformat_minor": 0,
  "metadata": {
    "colab": {
      "provenance": [],
      "authorship_tag": "ABX9TyPAC81kr8qt4gmfH2rtQ97e",
      "include_colab_link": true
    },
    "kernelspec": {
      "name": "python3",
      "display_name": "Python 3"
    },
    "language_info": {
      "name": "python"
    }
  },
  "cells": [
    {
      "cell_type": "markdown",
      "metadata": {
        "id": "view-in-github",
        "colab_type": "text"
      },
      "source": [
        "<a href=\"https://colab.research.google.com/github/Inayat2/statistics/blob/main/STATISTICS.ipynb\" target=\"_parent\"><img src=\"https://colab.research.google.com/assets/colab-badge.svg\" alt=\"Open In Colab\"/></a>"
      ]
    },
    {
      "cell_type": "code",
      "execution_count": null,
      "metadata": {
        "colab": {
          "base_uri": "https://localhost:8080/"
        },
        "id": "fC5IcuQalMMW",
        "outputId": "267f0605-4fa1-449d-f918-19c7527c312c"
      },
      "outputs": [
        {
          "output_type": "stream",
          "name": "stdout",
          "text": [
            "5.0\n"
          ]
        }
      ],
      "source": [
        "import numpy as np\n",
        "from scipy.stats import skew\n",
        "data=np.array([1,2,3,4,5,6,7,8,9])\n",
        "mean=np.mean(data)\n",
        "print(mean)"
      ]
    },
    {
      "cell_type": "code",
      "source": [
        "1+7"
      ],
      "metadata": {
        "colab": {
          "base_uri": "https://localhost:8080/"
        },
        "id": "MmqTDj0aiZix",
        "outputId": "12543eaf-a60d-45b7-9c0c-bf5256b8af39"
      },
      "execution_count": null,
      "outputs": [
        {
          "output_type": "execute_result",
          "data": {
            "text/plain": [
              "8"
            ]
          },
          "metadata": {},
          "execution_count": 1
        }
      ]
    },
    {
      "cell_type": "code",
      "source": [
        "a=2"
      ],
      "metadata": {
        "id": "JP-0be4TicGN"
      },
      "execution_count": null,
      "outputs": []
    },
    {
      "cell_type": "code",
      "source": [
        "a"
      ],
      "metadata": {
        "colab": {
          "base_uri": "https://localhost:8080/"
        },
        "id": "pfDAmlprq9Er",
        "outputId": "254f4b92-ebf4-4a66-9910-c0271af56e47"
      },
      "execution_count": null,
      "outputs": [
        {
          "output_type": "execute_result",
          "data": {
            "text/plain": [
              "2"
            ]
          },
          "metadata": {},
          "execution_count": 3
        }
      ]
    },
    {
      "cell_type": "code",
      "source": [
        "type(a)"
      ],
      "metadata": {
        "colab": {
          "base_uri": "https://localhost:8080/"
        },
        "id": "yWm1A0axq-3v",
        "outputId": "3efbf18a-98fa-4b0e-fb49-ea3d83ab9387"
      },
      "execution_count": null,
      "outputs": [
        {
          "output_type": "execute_result",
          "data": {
            "text/plain": [
              "int"
            ]
          },
          "metadata": {},
          "execution_count": 4
        }
      ]
    },
    {
      "cell_type": "code",
      "source": [
        "b=45.5"
      ],
      "metadata": {
        "id": "RmcosoSZrhNt"
      },
      "execution_count": null,
      "outputs": []
    },
    {
      "cell_type": "code",
      "source": [
        "b"
      ],
      "metadata": {
        "colab": {
          "base_uri": "https://localhost:8080/"
        },
        "id": "S-gr-sFmr8zn",
        "outputId": "bf0e0407-812d-4b43-83db-d4fbcdedc320"
      },
      "execution_count": null,
      "outputs": [
        {
          "output_type": "execute_result",
          "data": {
            "text/plain": [
              "45.5"
            ]
          },
          "metadata": {},
          "execution_count": 6
        }
      ]
    },
    {
      "cell_type": "code",
      "source": [
        "type"
      ],
      "metadata": {
        "colab": {
          "base_uri": "https://localhost:8080/"
        },
        "id": "t1ybRVRGr9np",
        "outputId": "ebfb561b-3dd6-4519-b0fd-a037a1745753"
      },
      "execution_count": null,
      "outputs": [
        {
          "output_type": "execute_result",
          "data": {
            "text/plain": [
              "type"
            ]
          },
          "metadata": {},
          "execution_count": 7
        }
      ]
    },
    {
      "cell_type": "code",
      "source": [
        "type(b)"
      ],
      "metadata": {
        "colab": {
          "base_uri": "https://localhost:8080/"
        },
        "id": "8YttM6Ubr-_0",
        "outputId": "2f4fe05a-436b-4520-918e-773525ec0907"
      },
      "execution_count": null,
      "outputs": [
        {
          "output_type": "execute_result",
          "data": {
            "text/plain": [
              "float"
            ]
          },
          "metadata": {},
          "execution_count": 8
        }
      ]
    },
    {
      "cell_type": "code",
      "source": [
        "a=4567"
      ],
      "metadata": {
        "id": "K_20LCkCsEeo"
      },
      "execution_count": null,
      "outputs": []
    },
    {
      "cell_type": "code",
      "source": [
        "a"
      ],
      "metadata": {
        "colab": {
          "base_uri": "https://localhost:8080/"
        },
        "id": "n038hknEuHzY",
        "outputId": "29b5cced-9547-4ce2-cff4-f71d403d608d"
      },
      "execution_count": null,
      "outputs": [
        {
          "output_type": "execute_result",
          "data": {
            "text/plain": [
              "4567"
            ]
          },
          "metadata": {},
          "execution_count": 10
        }
      ]
    },
    {
      "cell_type": "code",
      "source": [
        "a=('inayat shabir ', 45)"
      ],
      "metadata": {
        "id": "hykqGd9VuJZv"
      },
      "execution_count": null,
      "outputs": []
    },
    {
      "cell_type": "code",
      "source": [
        "a"
      ],
      "metadata": {
        "colab": {
          "base_uri": "https://localhost:8080/"
        },
        "id": "KNv1Y5VTuxvg",
        "outputId": "5909859c-7444-4183-c4c8-a488e7b10714"
      },
      "execution_count": null,
      "outputs": [
        {
          "output_type": "execute_result",
          "data": {
            "text/plain": [
              "('inayat shabir ', 45)"
            ]
          },
          "metadata": {},
          "execution_count": 13
        }
      ]
    },
    {
      "cell_type": "code",
      "source": [
        "type(a)"
      ],
      "metadata": {
        "colab": {
          "base_uri": "https://localhost:8080/"
        },
        "id": "3Sr26AoTu7RW",
        "outputId": "cfd037c8-f5eb-4795-9b59-ba967c06ae86"
      },
      "execution_count": null,
      "outputs": [
        {
          "output_type": "execute_result",
          "data": {
            "text/plain": [
              "tuple"
            ]
          },
          "metadata": {},
          "execution_count": 14
        }
      ]
    },
    {
      "cell_type": "code",
      "source": [
        "a.insert(1, 'tibet')"
      ],
      "metadata": {
        "colab": {
          "base_uri": "https://localhost:8080/",
          "height": 147
        },
        "id": "KlQwAVxju_A-",
        "outputId": "4bca6c1b-a700-4ab3-d0f9-806abcd989d8"
      },
      "execution_count": null,
      "outputs": [
        {
          "output_type": "error",
          "ename": "AttributeError",
          "evalue": "'tuple' object has no attribute 'insert'",
          "traceback": [
            "\u001b[0;31m---------------------------------------------------------------------------\u001b[0m",
            "\u001b[0;31mAttributeError\u001b[0m                            Traceback (most recent call last)",
            "\u001b[0;32m<ipython-input-15-df44c29bf950>\u001b[0m in \u001b[0;36m<cell line: 1>\u001b[0;34m()\u001b[0m\n\u001b[0;32m----> 1\u001b[0;31m \u001b[0ma\u001b[0m\u001b[0;34m.\u001b[0m\u001b[0minsert\u001b[0m\u001b[0;34m(\u001b[0m\u001b[0;36m1\u001b[0m\u001b[0;34m,\u001b[0m \u001b[0;34m'tibet'\u001b[0m\u001b[0;34m)\u001b[0m\u001b[0;34m\u001b[0m\u001b[0;34m\u001b[0m\u001b[0m\n\u001b[0m",
            "\u001b[0;31mAttributeError\u001b[0m: 'tuple' object has no attribute 'insert'"
          ]
        }
      ]
    },
    {
      "cell_type": "code",
      "source": [],
      "metadata": {
        "colab": {
          "base_uri": "https://localhost:8080/"
        },
        "id": "7i1sSvtSvtnt",
        "outputId": "c21030be-19c8-49e1-f914-de703a9b1a86"
      },
      "execution_count": null,
      "outputs": [
        {
          "output_type": "execute_result",
          "data": {
            "text/plain": [
              "('inayat shabir ', 45)"
            ]
          },
          "metadata": {},
          "execution_count": 16
        }
      ]
    },
    {
      "cell_type": "code",
      "source": [
        "type(a)"
      ],
      "metadata": {
        "colab": {
          "base_uri": "https://localhost:8080/"
        },
        "id": "rJTWkYrewNh6",
        "outputId": "f85cdfa5-3838-4155-b2ef-970f14aa01fa"
      },
      "execution_count": null,
      "outputs": [
        {
          "output_type": "execute_result",
          "data": {
            "text/plain": [
              "tuple"
            ]
          },
          "metadata": {},
          "execution_count": 17
        }
      ]
    },
    {
      "cell_type": "code",
      "source": [
        "i='inayat'"
      ],
      "metadata": {
        "id": "kH-Cz-q7wQDt"
      },
      "execution_count": null,
      "outputs": []
    },
    {
      "cell_type": "code",
      "source": [
        "i"
      ],
      "metadata": {
        "colab": {
          "base_uri": "https://localhost:8080/",
          "height": 36
        },
        "id": "NGh5l4d7wk8I",
        "outputId": "6966d820-07fc-454c-c575-ec2e3288da4e"
      },
      "execution_count": null,
      "outputs": [
        {
          "output_type": "execute_result",
          "data": {
            "text/plain": [
              "'inayat'"
            ],
            "application/vnd.google.colaboratory.intrinsic+json": {
              "type": "string"
            }
          },
          "metadata": {},
          "execution_count": 19
        }
      ]
    },
    {
      "cell_type": "code",
      "source": [
        "type(i)"
      ],
      "metadata": {
        "colab": {
          "base_uri": "https://localhost:8080/"
        },
        "id": "Ibh_IQUBwmnS",
        "outputId": "d4e4f836-e15d-44d5-9be5-5efcaff54978"
      },
      "execution_count": null,
      "outputs": [
        {
          "output_type": "execute_result",
          "data": {
            "text/plain": [
              "str"
            ]
          },
          "metadata": {},
          "execution_count": 20
        }
      ]
    },
    {
      "cell_type": "code",
      "source": [
        "b=True"
      ],
      "metadata": {
        "id": "WVM9u2gMwp4y"
      },
      "execution_count": null,
      "outputs": []
    },
    {
      "cell_type": "code",
      "source": [
        "b"
      ],
      "metadata": {
        "colab": {
          "base_uri": "https://localhost:8080/"
        },
        "id": "UTKpTCuIwv8K",
        "outputId": "457ee442-edce-45fa-8a6a-7eacde00fdd6"
      },
      "execution_count": null,
      "outputs": [
        {
          "output_type": "execute_result",
          "data": {
            "text/plain": [
              "True"
            ]
          },
          "metadata": {},
          "execution_count": 22
        }
      ]
    },
    {
      "cell_type": "code",
      "source": [
        "type(b)"
      ],
      "metadata": {
        "colab": {
          "base_uri": "https://localhost:8080/"
        },
        "id": "T2Ah8wvVwxpr",
        "outputId": "98add517-1477-4318-cfee-3d5f37edc3ec"
      },
      "execution_count": null,
      "outputs": [
        {
          "output_type": "execute_result",
          "data": {
            "text/plain": [
              "bool"
            ]
          },
          "metadata": {},
          "execution_count": 23
        }
      ]
    },
    {
      "cell_type": "code",
      "source": [
        "b1 = True"
      ],
      "metadata": {
        "id": "mERFCDVDw0wM"
      },
      "execution_count": null,
      "outputs": []
    },
    {
      "cell_type": "code",
      "source": [
        "b2 = False"
      ],
      "metadata": {
        "id": "ZGi4hIiGxXE3"
      },
      "execution_count": null,
      "outputs": []
    },
    {
      "cell_type": "code",
      "source": [
        "b1-b2"
      ],
      "metadata": {
        "colab": {
          "base_uri": "https://localhost:8080/"
        },
        "id": "VP7MtUeFxbni",
        "outputId": "c8a33fa1-20e6-488e-f42c-408c823a4c7b"
      },
      "execution_count": null,
      "outputs": [
        {
          "output_type": "execute_result",
          "data": {
            "text/plain": [
              "1"
            ]
          },
          "metadata": {},
          "execution_count": 29
        }
      ]
    },
    {
      "cell_type": "code",
      "source": [
        "b2*b1"
      ],
      "metadata": {
        "colab": {
          "base_uri": "https://localhost:8080/"
        },
        "id": "ZzLHs62jxsns",
        "outputId": "ced193bf-2b8a-46d2-8bcd-42dd8c70e17a"
      },
      "execution_count": null,
      "outputs": [
        {
          "output_type": "execute_result",
          "data": {
            "text/plain": [
              "0"
            ]
          },
          "metadata": {},
          "execution_count": 30
        }
      ]
    },
    {
      "cell_type": "code",
      "source": [
        "x1=77"
      ],
      "metadata": {
        "id": "aPXdhYGxx0yP"
      },
      "execution_count": null,
      "outputs": []
    },
    {
      "cell_type": "code",
      "source": [
        "x2=56"
      ],
      "metadata": {
        "id": "O3GwuaVcx6pK"
      },
      "execution_count": null,
      "outputs": []
    },
    {
      "cell_type": "code",
      "source": [
        "x3=91.6"
      ],
      "metadata": {
        "id": "zm3ZMnx4x9vO"
      },
      "execution_count": null,
      "outputs": []
    },
    {
      "cell_type": "code",
      "source": [
        "x3"
      ],
      "metadata": {
        "colab": {
          "base_uri": "https://localhost:8080/"
        },
        "id": "YlWanCr3yAZh",
        "outputId": "4ee32749-0253-48d7-a0da-1eda0e717454"
      },
      "execution_count": null,
      "outputs": [
        {
          "output_type": "execute_result",
          "data": {
            "text/plain": [
              "91.6"
            ]
          },
          "metadata": {},
          "execution_count": 39
        }
      ]
    },
    {
      "cell_type": "code",
      "source": [
        "x1+x3"
      ],
      "metadata": {
        "colab": {
          "base_uri": "https://localhost:8080/"
        },
        "id": "aLm9YHUOyB5H",
        "outputId": "d88c2e25-8b15-41b8-b1a8-ec87656f8516"
      },
      "execution_count": null,
      "outputs": [
        {
          "output_type": "execute_result",
          "data": {
            "text/plain": [
              "168.6"
            ]
          },
          "metadata": {},
          "execution_count": 40
        }
      ]
    },
    {
      "cell_type": "code",
      "source": [
        "x1*x2"
      ],
      "metadata": {
        "colab": {
          "base_uri": "https://localhost:8080/"
        },
        "id": "2lx76syiyFUy",
        "outputId": "8c327252-acef-40da-9c21-da1fcc19021e"
      },
      "execution_count": null,
      "outputs": [
        {
          "output_type": "execute_result",
          "data": {
            "text/plain": [
              "2618"
            ]
          },
          "metadata": {},
          "execution_count": 41
        }
      ]
    },
    {
      "cell_type": "code",
      "source": [
        "type(x3)"
      ],
      "metadata": {
        "colab": {
          "base_uri": "https://localhost:8080/"
        },
        "id": "hHqAliZryXvf",
        "outputId": "715a9c96-e471-4cea-91a2-f1677588d293"
      },
      "execution_count": null,
      "outputs": [
        {
          "output_type": "execute_result",
          "data": {
            "text/plain": [
              "float"
            ]
          },
          "metadata": {},
          "execution_count": 42
        }
      ]
    },
    {
      "cell_type": "code",
      "source": [
        "type(x1)"
      ],
      "metadata": {
        "colab": {
          "base_uri": "https://localhost:8080/"
        },
        "id": "cgX4ull2yeIK",
        "outputId": "8eea6ced-a413-491e-8f37-dc083a23c5b6"
      },
      "execution_count": null,
      "outputs": [
        {
          "output_type": "execute_result",
          "data": {
            "text/plain": [
              "int"
            ]
          },
          "metadata": {},
          "execution_count": 44
        }
      ]
    },
    {
      "cell_type": "code",
      "source": [
        "h = 7+ 8j"
      ],
      "metadata": {
        "id": "nCGZxGXVzJ3D"
      },
      "execution_count": null,
      "outputs": []
    },
    {
      "cell_type": "code",
      "source": [
        "type(h)"
      ],
      "metadata": {
        "colab": {
          "base_uri": "https://localhost:8080/"
        },
        "id": "ASnMpdOMzXYe",
        "outputId": "b0084365-39e7-4b01-e787-680309e03409"
      },
      "execution_count": null,
      "outputs": [
        {
          "output_type": "execute_result",
          "data": {
            "text/plain": [
              "complex"
            ]
          },
          "metadata": {},
          "execution_count": 51
        }
      ]
    },
    {
      "cell_type": "code",
      "source": [],
      "metadata": {
        "colab": {
          "base_uri": "https://localhost:8080/"
        },
        "id": "6QAloiWh2nDq",
        "outputId": "f28ab3b5-02d4-4cfc-aed1-1544acdaccbd"
      },
      "execution_count": null,
      "outputs": [
        {
          "output_type": "execute_result",
          "data": {
            "text/plain": [
              "('inayat', 'iqraour product2')"
            ]
          },
          "metadata": {},
          "execution_count": 56
        }
      ]
    },
    {
      "cell_type": "code",
      "source": [
        "|type(a)"
      ],
      "metadata": {
        "colab": {
          "base_uri": "https://localhost:8080/",
          "height": 110
        },
        "id": "wlbHXJ4y2o68",
        "outputId": "01692ecf-b321-4cb4-f836-c8e2a50521be"
      },
      "execution_count": null,
      "outputs": [
        {
          "output_type": "error",
          "ename": "SyntaxError",
          "evalue": "invalid syntax (<ipython-input-57-b6ac8f2aef66>, line 1)",
          "traceback": [
            "\u001b[0;36m  File \u001b[0;32m\"<ipython-input-57-b6ac8f2aef66>\"\u001b[0;36m, line \u001b[0;32m1\u001b[0m\n\u001b[0;31m    |type(a)\u001b[0m\n\u001b[0m    ^\u001b[0m\n\u001b[0;31mSyntaxError\u001b[0m\u001b[0;31m:\u001b[0m invalid syntax\n"
          ]
        }
      ]
    },
    {
      "cell_type": "code",
      "source": [
        "h=7+8j"
      ],
      "metadata": {
        "id": "Qy-dNEqt2rra"
      },
      "execution_count": null,
      "outputs": []
    },
    {
      "cell_type": "code",
      "source": [
        "h"
      ],
      "metadata": {
        "colab": {
          "base_uri": "https://localhost:8080/"
        },
        "id": "rbMeBXkk4ZGr",
        "outputId": "51883b45-fbf6-4ef4-c438-455b52cddbde"
      },
      "execution_count": null,
      "outputs": [
        {
          "output_type": "execute_result",
          "data": {
            "text/plain": [
              "(7+8j)"
            ]
          },
          "metadata": {},
          "execution_count": 61
        }
      ]
    },
    {
      "cell_type": "code",
      "source": [
        "type(h)"
      ],
      "metadata": {
        "colab": {
          "base_uri": "https://localhost:8080/"
        },
        "id": "LQzpmgjo4Z2A",
        "outputId": "738fccb5-77a5-4335-ab0a-79eeaf357866"
      },
      "execution_count": null,
      "outputs": [
        {
          "output_type": "execute_result",
          "data": {
            "text/plain": [
              "complex"
            ]
          },
          "metadata": {},
          "execution_count": 62
        }
      ]
    },
    {
      "cell_type": "code",
      "source": [
        "h.real"
      ],
      "metadata": {
        "colab": {
          "base_uri": "https://localhost:8080/"
        },
        "id": "Gv2vfR574cvx",
        "outputId": "11195d02-d37a-4882-ecca-d4ff6a943b93"
      },
      "execution_count": null,
      "outputs": [
        {
          "output_type": "execute_result",
          "data": {
            "text/plain": [
              "7.0"
            ]
          },
          "metadata": {},
          "execution_count": 63
        }
      ]
    },
    {
      "cell_type": "code",
      "source": [
        "h.imag"
      ],
      "metadata": {
        "colab": {
          "base_uri": "https://localhost:8080/"
        },
        "id": "yIdZ3Vqk4iPP",
        "outputId": "5789da90-d7ef-469d-b102-1d431cac689b"
      },
      "execution_count": null,
      "outputs": [
        {
          "output_type": "execute_result",
          "data": {
            "text/plain": [
              "8.0"
            ]
          },
          "metadata": {},
          "execution_count": 64
        }
      ]
    },
    {
      "cell_type": "code",
      "source": [
        "import numpy as np\n",
        "np.random.seed(0)\n",
        "data = np.random.poisson(lam=3,  size=10000)\n",
        "data"
      ],
      "metadata": {
        "id": "W1PirHjd4r1R",
        "colab": {
          "base_uri": "https://localhost:8080/"
        },
        "outputId": "f0330dac-c16a-4795-c2e9-9bfc27873f87"
      },
      "execution_count": null,
      "outputs": [
        {
          "output_type": "execute_result",
          "data": {
            "text/plain": [
              "array([5, 6, 2, ..., 1, 4, 2])"
            ]
          },
          "metadata": {},
          "execution_count": 37
        }
      ]
    },
    {
      "cell_type": "code",
      "source": [
        "import matplotlib.pyplot as plt\n",
        "plt.hist(data, bins=10, alpha=0.6, color='b')\n",
        "plt.title('histogram')\n",
        "plt.xlabel('value')\n",
        "plt.ylabel('frequency')\n",
        "plt.show()"
      ],
      "metadata": {
        "colab": {
          "base_uri": "https://localhost:8080/",
          "height": 472
        },
        "id": "cQm8jBi9SEy6",
        "outputId": "caa8eabc-69d9-428d-eb3c-43f78370efe8"
      },
      "execution_count": null,
      "outputs": [
        {
          "output_type": "display_data",
          "data": {
            "text/plain": [
              "<Figure size 640x480 with 1 Axes>"
            ],
            "image/png": "[encoded data removed]"
          },
          "metadata": {}
        }
      ]
    },
    {
      "cell_type": "code",
      "source": [
        "import seaborn as sns\n",
        "sns.histplot(data, kde=True)\n",
        "plt.title('distribution')\n",
        "plt.xlabel('value')\n",
        "plt.ylabel('density')\n",
        "plt.show()"
      ],
      "metadata": {
        "colab": {
          "base_uri": "https://localhost:8080/",
          "height": 472
        },
        "id": "7LgJc7G-Un80",
        "outputId": "76073da7-59cf-40bc-880e-16a9900167dc"
      },
      "execution_count": null,
      "outputs": [
        {
          "output_type": "display_data",
          "data": {
            "text/plain": [
              "<Figure size 640x480 with 1 Axes>"
            ],
            "image/png": "[encoded data removed]"
          },
          "metadata": {}
        }
      ]
    },
    {
      "cell_type": "code",
      "source": [
        "import matplotlib.pyplot as plt\n",
        "bug_types=['User Interface(UI)', 'Functional' , 'Security','Perfromance','speed']\n",
        "plt.titles=('pie-chart')\n",
        "bug_count=[17,39,23,56,74]\n",
        "\n",
        "plt.pie(bug_count,labels=bug_types)\n",
        "plt.show()"
      ],
      "metadata": {
        "id": "7WM5n4S7XrIw",
        "colab": {
          "base_uri": "https://localhost:8080/",
          "height": 406
        },
        "outputId": "48ccc794-b7d4-42a8-f314-24a3abe96201"
      },
      "execution_count": null,
      "outputs": [
        {
          "output_type": "display_data",
          "data": {
            "text/plain": [
              "<Figure size 640x480 with 1 Axes>"
            ],
            "image/png": "[encoded data removed]"
          },
          "metadata": {}
        }
      ]
    },
    {
      "cell_type": "code",
      "source": [
        "import numpy as np\n",
        "import matplotlib.pyplot as plt\n",
        "import scipy.stats as stats\n",
        "data=np.random.normal(loc=0,scale=1,size=1000)"
      ],
      "metadata": {
        "id": "pRUdxRpJtGfC"
      },
      "execution_count": null,
      "outputs": []
    },
    {
      "cell_type": "code",
      "source": [
        "# calculating skewness and kurtosis\n",
        "skewness=stats.skew(data)\n",
        "kurtosis= stats.kurtosis(data)\n",
        "print(f'skewness:{skewness}')\n",
        "print(f'kurtosis:{kurtosis}')"
      ],
      "metadata": {
        "colab": {
          "base_uri": "https://localhost:8080/"
        },
        "id": "jBWXRStH5RRv",
        "outputId": "aa31f9d0-48b7-4fd9-fa9f-a9060380cf8c"
      },
      "execution_count": null,
      "outputs": [
        {
          "output_type": "stream",
          "name": "stdout",
          "text": [
            "skewness:0.05817295389760847\n",
            "kurtosis:-0.15248821563132253\n"
          ]
        }
      ]
    },
    {
      "cell_type": "code",
      "source": [
        "data1=np.random.randint(low=0, high=100, size=10)\n",
        "data1\n"
      ],
      "metadata": {
        "colab": {
          "base_uri": "https://localhost:8080/"
        },
        "id": "M78jcj885d7e",
        "outputId": "45904e9c-5a10-431b-c5cc-d19b7930844a"
      },
      "execution_count": null,
      "outputs": [
        {
          "output_type": "execute_result",
          "data": {
            "text/plain": [
              "array([63,  7,  5, 84, 77, 33, 34, 64, 30, 70])"
            ]
          },
          "metadata": {},
          "execution_count": 3
        }
      ]
    },
    {
      "cell_type": "code",
      "source": [
        "x=np.sort(data)\n",
        "x"
      ],
      "metadata": {
        "colab": {
          "base_uri": "https://localhost:8080/"
        },
        "id": "FEfJajSk5rt4",
        "outputId": "74e703f7-7c2c-4d13-f632-6b6808539f39"
      },
      "execution_count": null,
      "outputs": [
        {
          "output_type": "execute_result",
          "data": {
            "text/plain": [
              "array([-3.07285813e+00, -2.85304300e+00, -2.75226855e+00, -2.64814760e+00,\n",
              "       -2.59740504e+00, -2.59193600e+00, -2.50111400e+00, -2.47298947e+00,\n",
              "       -2.43614895e+00, -2.38186154e+00, -2.37596153e+00, -2.31830156e+00,\n",
              "       -2.29073900e+00, -2.27243384e+00, -2.25769872e+00, -2.16926883e+00,\n",
              "       -2.14975645e+00, -2.11812069e+00, -2.10855253e+00, -2.10378954e+00,\n",
              "       -2.08538300e+00, -2.07147482e+00, -2.06430668e+00, -2.06401205e+00,\n",
              "       -2.03590143e+00, -1.98523245e+00, -1.92113593e+00, -1.91542870e+00,\n",
              "       -1.90256076e+00, -1.88464066e+00, -1.87902843e+00, -1.87563032e+00,\n",
              "       -1.85166274e+00, -1.82115715e+00, -1.80220746e+00, -1.79623980e+00,\n",
              "       -1.78681242e+00, -1.77243600e+00, -1.75232795e+00, -1.73909351e+00,\n",
              "       -1.72503500e+00, -1.71747496e+00, -1.70647042e+00, -1.69244386e+00,\n",
              "       -1.69196363e+00, -1.68658122e+00, -1.65934848e+00, -1.65309286e+00,\n",
              "       -1.65301503e+00, -1.64475102e+00, -1.63254337e+00, -1.62203784e+00,\n",
              "       -1.61486898e+00, -1.61376297e+00, -1.60572790e+00, -1.60124233e+00,\n",
              "       -1.59957962e+00, -1.59838427e+00, -1.59180153e+00, -1.57766040e+00,\n",
              "       -1.56573180e+00, -1.56485706e+00, -1.54768515e+00, -1.54396873e+00,\n",
              "       -1.53990226e+00, -1.53360528e+00, -1.53127660e+00, -1.52531698e+00,\n",
              "       -1.51530723e+00, -1.50662276e+00, -1.50159702e+00, -1.50159130e+00,\n",
              "       -1.50098080e+00, -1.49730062e+00, -1.48984833e+00, -1.47897466e+00,\n",
              "       -1.47293051e+00, -1.47241880e+00, -1.47222561e+00, -1.47018018e+00,\n",
              "       -1.46322373e+00, -1.45997987e+00, -1.45987872e+00, -1.45720801e+00,\n",
              "       -1.45252945e+00, -1.45120060e+00, -1.44980037e+00, -1.43416735e+00,\n",
              "       -1.43171350e+00, -1.42719790e+00, -1.41952339e+00, -1.40761797e+00,\n",
              "       -1.40127007e+00, -1.39513169e+00, -1.39292608e+00, -1.39062579e+00,\n",
              "       -1.38567628e+00, -1.37912934e+00, -1.37353300e+00, -1.37102505e+00,\n",
              "       -1.36569610e+00, -1.35042549e+00, -1.34968000e+00, -1.34804489e+00,\n",
              "       -1.33858978e+00, -1.33163400e+00, -1.33025994e+00, -1.31515688e+00,\n",
              "       -1.30992895e+00, -1.30740748e+00, -1.30087965e+00, -1.29964212e+00,\n",
              "       -1.29571401e+00, -1.28934355e+00, -1.28865445e+00, -1.28034531e+00,\n",
              "       -1.27708894e+00, -1.27422422e+00, -1.26873702e+00, -1.26347908e+00,\n",
              "       -1.26316613e+00, -1.25413496e+00, -1.25339423e+00, -1.25149270e+00,\n",
              "       -1.24971120e+00, -1.24610269e+00, -1.22596098e+00, -1.22140179e+00,\n",
              "       -1.21771676e+00, -1.21505262e+00, -1.21187616e+00, -1.21126332e+00,\n",
              "       -1.20820978e+00, -1.20755971e+00, -1.20475987e+00, -1.19650800e+00,\n",
              "       -1.19266176e+00, -1.18224245e+00, -1.17952047e+00, -1.16622889e+00,\n",
              "       -1.16452659e+00, -1.16159922e+00, -1.15421735e+00, -1.15074143e+00,\n",
              "       -1.14918844e+00, -1.14791856e+00, -1.14656973e+00, -1.14599622e+00,\n",
              "       -1.13974223e+00, -1.13122268e+00, -1.12973716e+00, -1.12777317e+00,\n",
              "       -1.12703550e+00, -1.12638538e+00, -1.11687181e+00, -1.10925011e+00,\n",
              "       -1.10898509e+00, -1.10451518e+00, -1.10381160e+00, -1.10233756e+00,\n",
              "       -1.09791414e+00, -1.09642962e+00, -1.09312178e+00, -1.08982211e+00,\n",
              "       -1.08895790e+00, -1.08778651e+00, -1.08733950e+00, -1.08509556e+00,\n",
              "       -1.07303277e+00, -1.06964696e+00, -1.06925355e+00, -1.06821364e+00,\n",
              "       -1.06614416e+00, -1.06426888e+00, -1.06351422e+00, -1.05565600e+00,\n",
              "       -1.05454358e+00, -1.04714696e+00, -1.04445079e+00, -1.03869148e+00,\n",
              "       -1.03534209e+00, -1.02423920e+00, -1.02417278e+00, -1.02233133e+00,\n",
              "       -1.01815627e+00, -1.01743274e+00, -1.01487070e+00, -1.01337648e+00,\n",
              "       -1.00616476e+00, -1.00530663e+00, -1.00324543e+00, -9.98202991e-01,\n",
              "       -9.92535569e-01, -9.74724227e-01, -9.64878671e-01, -9.58869067e-01,\n",
              "       -9.54007205e-01, -9.53489572e-01, -9.43802686e-01, -9.41978227e-01,\n",
              "       -9.37337354e-01, -9.36217067e-01, -9.29913306e-01, -9.27610805e-01,\n",
              "       -9.26354699e-01, -9.25644955e-01, -9.24711014e-01, -9.24294107e-01,\n",
              "       -9.15242149e-01, -9.10787954e-01, -9.08757372e-01, -9.04687994e-01,\n",
              "       -8.99736740e-01, -8.97118589e-01, -8.80787304e-01, -8.71077074e-01,\n",
              "       -8.66600708e-01, -8.64656779e-01, -8.62082268e-01, -8.60703371e-01,\n",
              "       -8.55365698e-01, -8.52580753e-01, -8.51859561e-01, -8.46786295e-01,\n",
              "       -8.45209307e-01, -8.41734042e-01, -8.40792009e-01, -8.37569957e-01,\n",
              "       -8.36869558e-01, -8.33213998e-01, -8.31651940e-01, -8.26243674e-01,\n",
              "       -8.25880947e-01, -8.24327592e-01, -8.18575105e-01, -8.17303355e-01,\n",
              "       -8.14231438e-01, -8.12024674e-01, -8.07697141e-01, -8.07533302e-01,\n",
              "       -8.06311607e-01, -8.03376753e-01, -7.99748637e-01, -7.95823032e-01,\n",
              "       -7.92387315e-01, -7.86186154e-01, -7.83083944e-01, -7.82919798e-01,\n",
              "       -7.78273240e-01, -7.68839263e-01, -7.68005041e-01, -7.58889403e-01,\n",
              "       -7.55535369e-01, -7.51778918e-01, -7.51214100e-01, -7.45458319e-01,\n",
              "       -7.28460867e-01, -7.28453525e-01, -7.28255229e-01, -7.26849966e-01,\n",
              "       -7.25341243e-01, -7.20624161e-01, -7.20074877e-01, -7.20013114e-01,\n",
              "       -7.16379051e-01, -7.14444656e-01, -7.11584178e-01, -7.11444679e-01,\n",
              "       -7.07580429e-01, -7.06404629e-01, -7.06011618e-01, -7.03320838e-01,\n",
              "       -7.02412910e-01, -6.96995971e-01, -6.90150234e-01, -6.89160666e-01,\n",
              "       -6.81928996e-01, -6.79796714e-01, -6.72245261e-01, -6.66936785e-01,\n",
              "       -6.65323293e-01, -6.56096134e-01, -6.55375097e-01, -6.54558431e-01,\n",
              "       -6.51600173e-01, -6.46540533e-01, -6.46237789e-01, -6.42684017e-01,\n",
              "       -6.38844673e-01, -6.29816292e-01, -6.13204446e-01, -6.03335257e-01,\n",
              "       -6.00249192e-01, -5.93487754e-01, -5.73277166e-01, -5.62644241e-01,\n",
              "       -5.60700490e-01, -5.57945569e-01, -5.51651732e-01, -5.49250988e-01,\n",
              "       -5.44025793e-01, -5.43523236e-01, -5.41516726e-01, -5.36935663e-01,\n",
              "       -5.36872495e-01, -5.35980966e-01, -5.29866518e-01, -5.17892676e-01,\n",
              "       -5.14252214e-01, -5.13872928e-01, -5.13414519e-01, -5.12532930e-01,\n",
              "       -5.09379230e-01, -5.07472285e-01, -5.05760833e-01, -5.01792896e-01,\n",
              "       -4.99621868e-01, -4.98888792e-01, -4.97548007e-01, -4.97330984e-01,\n",
              "       -4.96141033e-01, -4.93688758e-01, -4.93083305e-01, -4.88649098e-01,\n",
              "       -4.87193220e-01, -4.85437787e-01, -4.84425473e-01, -4.80757238e-01,\n",
              "       -4.55286820e-01, -4.52529018e-01, -4.51188358e-01, -4.49794908e-01,\n",
              "       -4.40851186e-01, -4.40599142e-01, -4.39227911e-01, -4.37227261e-01,\n",
              "       -4.33099804e-01, -4.32984741e-01, -4.32619404e-01, -4.31758057e-01,\n",
              "       -4.30733532e-01, -4.28947490e-01, -4.26882412e-01, -4.23244040e-01,\n",
              "       -4.22345917e-01, -4.21970947e-01, -4.19994134e-01, -4.18787194e-01,\n",
              "       -4.15256053e-01, -4.14420209e-01, -4.12158267e-01, -4.04761088e-01,\n",
              "       -4.04552197e-01, -4.02265935e-01, -3.98219742e-01, -3.94236379e-01,\n",
              "       -3.93007220e-01, -3.92416663e-01, -3.81000794e-01, -3.80127757e-01,\n",
              "       -3.78576910e-01, -3.77794034e-01, -3.76979788e-01, -3.74281196e-01,\n",
              "       -3.68366272e-01, -3.66768881e-01, -3.59062285e-01, -3.57071545e-01,\n",
              "       -3.48778700e-01, -3.48468060e-01, -3.45843295e-01, -3.40872918e-01,\n",
              "       -3.39739744e-01, -3.39175436e-01, -3.24367606e-01, -3.23760715e-01,\n",
              "       -3.13321362e-01, -3.12085357e-01, -3.11206188e-01, -3.07441398e-01,\n",
              "       -3.06173550e-01, -3.02998415e-01, -3.02583208e-01, -3.02185659e-01,\n",
              "       -2.98336974e-01, -2.96513167e-01, -2.90611883e-01, -2.89832659e-01,\n",
              "       -2.88170975e-01, -2.83700229e-01, -2.81708398e-01, -2.78247155e-01,\n",
              "       -2.77495829e-01, -2.76437013e-01, -2.74657047e-01, -2.72597871e-01,\n",
              "       -2.70891832e-01, -2.69565136e-01, -2.66970810e-01, -2.62539740e-01,\n",
              "       -2.60671615e-01, -2.56451420e-01, -2.52894548e-01, -2.52162316e-01,\n",
              "       -2.51882885e-01, -2.50946540e-01, -2.49597240e-01, -2.46745886e-01,\n",
              "       -2.42345655e-01, -2.37326093e-01, -2.37125089e-01, -2.33467378e-01,\n",
              "       -2.24581649e-01, -2.24421148e-01, -2.23431975e-01, -2.22443629e-01,\n",
              "       -2.22188803e-01, -2.20878819e-01, -2.19785652e-01, -2.17912791e-01,\n",
              "       -2.17251888e-01, -2.09977497e-01, -2.09485078e-01, -2.06853034e-01,\n",
              "       -2.05908471e-01, -2.05803317e-01, -2.05312335e-01, -2.03621795e-01,\n",
              "       -2.03161044e-01, -2.01841408e-01, -2.00215337e-01, -1.99368600e-01,\n",
              "       -1.97701227e-01, -1.97616444e-01, -1.95202318e-01, -1.92726744e-01,\n",
              "       -1.91811253e-01, -1.90262674e-01, -1.89919085e-01, -1.83465211e-01,\n",
              "       -1.82451923e-01, -1.82298666e-01, -1.81972976e-01, -1.81761864e-01,\n",
              "       -1.77855106e-01, -1.74251501e-01, -1.72195536e-01, -1.66386928e-01,\n",
              "       -1.61857545e-01, -1.55802005e-01, -1.55779379e-01, -1.53410180e-01,\n",
              "       -1.51980669e-01, -1.51812651e-01, -1.47511851e-01, -1.42964364e-01,\n",
              "       -1.42236245e-01, -1.35360727e-01, -1.33403493e-01, -1.31385333e-01,\n",
              "       -1.28180800e-01, -1.19825332e-01, -1.13722113e-01, -1.08097501e-01,\n",
              "       -1.03893726e-01, -1.01373731e-01, -1.00588505e-01, -9.36959055e-02,\n",
              "       -9.31911885e-02, -9.26414493e-02, -8.87778451e-02, -8.82733088e-02,\n",
              "       -8.57801996e-02, -8.42465929e-02, -7.98108510e-02, -7.73844291e-02,\n",
              "       -7.42280488e-02, -7.28684765e-02, -7.03099451e-02, -6.90855092e-02,\n",
              "       -6.87455363e-02, -6.87043996e-02, -6.75518474e-02, -6.25282859e-02,\n",
              "       -5.76189495e-02, -5.52099828e-02, -5.30178270e-02, -5.07593649e-02,\n",
              "       -4.99301343e-02, -4.88901123e-02, -4.46902868e-02, -4.42737679e-02,\n",
              "       -4.32380154e-02, -4.15651372e-02, -3.96980519e-02, -3.88161770e-02,\n",
              "       -3.73780451e-02, -3.49015666e-02, -3.33502020e-02, -3.18449768e-02,\n",
              "       -2.81694492e-02, -2.74430054e-02, -2.52691984e-02, -2.48362837e-02,\n",
              "       -2.41418040e-02, -2.04730698e-02, -1.14538971e-02, -9.43588864e-03,\n",
              "       -9.20654539e-03, -5.05724418e-03, -1.30694372e-04,  7.62553099e-03,\n",
              "        1.13602825e-02,  1.78610344e-02,  1.84725202e-02,  2.00222985e-02,\n",
              "        2.01127052e-02,  2.13924366e-02,  2.47255518e-02,  2.59138251e-02,\n",
              "        3.26963586e-02,  3.49050100e-02,  3.63090997e-02,  4.52914801e-02,\n",
              "        4.60144722e-02,  5.33103707e-02,  6.10914801e-02,  6.33669191e-02,\n",
              "        6.46463356e-02,  6.80414680e-02,  7.01351956e-02,  7.11101919e-02,\n",
              "        7.57697701e-02,  7.72361286e-02,  8.30443209e-02,  8.48094912e-02,\n",
              "        8.68543951e-02,  8.94854004e-02,  9.00031753e-02,  9.09707475e-02,\n",
              "        9.23988218e-02,  9.28922086e-02,  9.50950654e-02,  9.78076862e-02,\n",
              "        9.90579929e-02,  9.96252548e-02,  9.97218317e-02,  1.00403877e-01,\n",
              "        1.00515917e-01,  1.03418911e-01,  1.04216206e-01,  1.04308979e-01,\n",
              "        1.07432582e-01,  1.11429526e-01,  1.18178484e-01,  1.18877268e-01,\n",
              "        1.28120170e-01,  1.32281739e-01,  1.32521753e-01,  1.33476134e-01,\n",
              "        1.34294562e-01,  1.35493990e-01,  1.36486764e-01,  1.37499822e-01,\n",
              "        1.38261201e-01,  1.39779971e-01,  1.42553926e-01,  1.43632575e-01,\n",
              "        1.44030305e-01,  1.46199083e-01,  1.50829371e-01,  1.54034395e-01,\n",
              "        1.54846115e-01,  1.55292654e-01,  1.55937568e-01,  1.56240692e-01,\n",
              "        1.56654542e-01,  1.66795613e-01,  1.68093821e-01,  1.69614522e-01,\n",
              "        1.73346212e-01,  1.77435109e-01,  1.78045225e-01,  1.79151719e-01,\n",
              "        1.82789262e-01,  1.83174588e-01,  1.86889182e-01,  1.88871322e-01,\n",
              "        1.88882365e-01,  1.92667544e-01,  1.93774334e-01,  1.95244205e-01,\n",
              "        1.95575868e-01,  1.97727645e-01,  1.98786458e-01,  1.99344748e-01,\n",
              "        2.05566563e-01,  2.06427712e-01,  2.18348218e-01,  2.20287229e-01,\n",
              "        2.22247113e-01,  2.22650729e-01,  2.23000887e-01,  2.26951120e-01,\n",
              "        2.28427124e-01,  2.28489982e-01,  2.34406285e-01,  2.39293446e-01,\n",
              "        2.42823130e-01,  2.44370039e-01,  2.46275635e-01,  2.49135046e-01,\n",
              "        2.50643136e-01,  2.51147473e-01,  2.69594865e-01,  2.71078972e-01,\n",
              "        2.76602926e-01,  2.76698902e-01,  2.78835582e-01,  2.81729408e-01,\n",
              "        2.84369065e-01,  2.86827429e-01,  2.91184525e-01,  2.92945752e-01,\n",
              "        2.96396125e-01,  2.96401230e-01,  2.96602693e-01,  3.03635676e-01,\n",
              "        3.04891814e-01,  3.11391949e-01,  3.20745835e-01,  3.21426398e-01,\n",
              "        3.29248349e-01,  3.32903215e-01,  3.34601144e-01,  3.35402240e-01,\n",
              "        3.35693095e-01,  3.41408193e-01,  3.47792282e-01,  3.62650439e-01,\n",
              "        3.67705473e-01,  3.69798442e-01,  3.72184496e-01,  3.75136486e-01,\n",
              "        3.76582464e-01,  3.77038960e-01,  3.77854170e-01,  3.82130358e-01,\n",
              "        3.84539912e-01,  3.86643196e-01,  3.89464908e-01,  3.89490317e-01,\n",
              "        3.95194669e-01,  3.95722907e-01,  3.97918670e-01,  4.06664745e-01,\n",
              "        4.07194181e-01,  4.07485769e-01,  4.19902094e-01,  4.22988791e-01,\n",
              "        4.33272804e-01,  4.33689876e-01,  4.50630652e-01,  4.52947747e-01,\n",
              "        4.53741641e-01,  4.57981854e-01,  4.63510297e-01,  4.63852913e-01,\n",
              "        4.66721234e-01,  4.66964150e-01,  4.67094564e-01,  4.74459984e-01,\n",
              "        4.81202009e-01,  4.84701737e-01,  4.85517396e-01,  4.87503571e-01,\n",
              "        4.92351238e-01,  4.96492546e-01,  5.03095128e-01,  5.06169363e-01,\n",
              "        5.06678943e-01,  5.08158066e-01,  5.12166309e-01,  5.13144834e-01,\n",
              "        5.13309289e-01,  5.13477417e-01,  5.13605151e-01,  5.14874317e-01,\n",
              "        5.19966315e-01,  5.25907868e-01,  5.34343584e-01,  5.35629118e-01,\n",
              "        5.36150311e-01,  5.44824176e-01,  5.45773764e-01,  5.49191190e-01,\n",
              "        5.62004732e-01,  5.62158902e-01,  5.62714846e-01,  5.64399833e-01,\n",
              "        5.65285435e-01,  5.70734605e-01,  5.73220479e-01,  5.73847228e-01,\n",
              "        5.75983077e-01,  5.79967042e-01,  5.80629577e-01,  5.81540731e-01,\n",
              "        5.83828130e-01,  5.91689457e-01,  5.92986519e-01,  5.94288344e-01,\n",
              "        6.05810746e-01,  6.06795110e-01,  6.08039474e-01,  6.10213284e-01,\n",
              "        6.13303874e-01,  6.13570841e-01,  6.15458948e-01,  6.16029086e-01,\n",
              "        6.16728312e-01,  6.18078815e-01,  6.23796990e-01,  6.28697121e-01,\n",
              "        6.28844601e-01,  6.32958338e-01,  6.33514744e-01,  6.44528231e-01,\n",
              "        6.50958329e-01,  6.52483504e-01,  6.54850211e-01,  6.55328246e-01,\n",
              "        6.57826303e-01,  6.59269555e-01,  6.59944296e-01,  6.60446065e-01,\n",
              "        6.62629847e-01,  6.66308137e-01,  6.71051794e-01,  6.72205537e-01,\n",
              "        6.72842146e-01,  6.77827943e-01,  6.78401350e-01,  6.82226494e-01,\n",
              "        6.85851326e-01,  7.00354320e-01,  7.02113236e-01,  7.03582095e-01,\n",
              "        7.05304503e-01,  7.08414051e-01,  7.09447859e-01,  7.13169871e-01,\n",
              "        7.16402469e-01,  7.19341427e-01,  7.19427815e-01,  7.21027149e-01,\n",
              "        7.24060821e-01,  7.34615195e-01,  7.35200048e-01,  7.38069807e-01,\n",
              "        7.43332698e-01,  7.43420369e-01,  7.52154040e-01,  7.55813305e-01,\n",
              "        7.58339440e-01,  7.63405030e-01,  7.70154847e-01,  7.71492922e-01,\n",
              "        7.82878424e-01,  7.85505791e-01,  7.86347066e-01,  7.92428510e-01,\n",
              "        7.96484140e-01,  7.96961990e-01,  7.99418196e-01,  8.00040120e-01,\n",
              "        8.11216933e-01,  8.15523209e-01,  8.30205279e-01,  8.30452937e-01,\n",
              "        8.30784916e-01,  8.41393060e-01,  8.43838411e-01,  8.47465255e-01,\n",
              "        8.49673691e-01,  8.50309856e-01,  8.53533995e-01,  8.53894484e-01,\n",
              "        8.56209942e-01,  8.62446722e-01,  8.73540680e-01,  8.86596070e-01,\n",
              "        8.89747654e-01,  8.89998003e-01,  8.92268912e-01,  9.00230619e-01,\n",
              "        9.01982226e-01,  9.02108113e-01,  9.03083478e-01,  9.12514966e-01,\n",
              "        9.13784599e-01,  9.19276159e-01,  9.24336685e-01,  9.24518865e-01,\n",
              "        9.24842343e-01,  9.26323390e-01,  9.28915456e-01,  9.35531466e-01,\n",
              "        9.45167312e-01,  9.46797783e-01,  9.47357921e-01,  9.50864446e-01,\n",
              "        9.54148240e-01,  9.58394639e-01,  9.62520142e-01,  9.81069409e-01,\n",
              "        9.94295033e-01,  1.00210246e+00,  1.00330286e+00,  1.00479078e+00,\n",
              "        1.00652132e+00,  1.01090211e+00,  1.01179605e+00,  1.01354189e+00,\n",
              "        1.01649098e+00,  1.01787644e+00,  1.02076022e+00,  1.02338947e+00,\n",
              "        1.02991517e+00,  1.03032130e+00,  1.03142402e+00,  1.03785514e+00,\n",
              "        1.04103557e+00,  1.04137722e+00,  1.04164803e+00,  1.04692780e+00,\n",
              "        1.04789065e+00,  1.05311467e+00,  1.05541712e+00,  1.05716664e+00,\n",
              "        1.05775667e+00,  1.05902763e+00,  1.06348248e+00,  1.06609939e+00,\n",
              "        1.06615191e+00,  1.06793196e+00,  1.06811817e+00,  1.07226727e+00,\n",
              "        1.07825265e+00,  1.08107292e+00,  1.08183942e+00,  1.08651677e+00,\n",
              "        1.09168005e+00,  1.09787381e+00,  1.10718401e+00,  1.11782302e+00,\n",
              "        1.12529028e+00,  1.12794356e+00,  1.12924212e+00,  1.12948293e+00,\n",
              "        1.13007254e+00,  1.13111372e+00,  1.14070894e+00,  1.14121423e+00,\n",
              "        1.14312402e+00,  1.15410488e+00,  1.15495445e+00,  1.16334191e+00,\n",
              "        1.16868034e+00,  1.17261124e+00,  1.17280044e+00,  1.17460391e+00,\n",
              "        1.17583734e+00,  1.17694403e+00,  1.17861130e+00,  1.18480246e+00,\n",
              "        1.19366653e+00,  1.19502679e+00,  1.20318450e+00,  1.20563297e+00,\n",
              "        1.21489370e+00,  1.22836617e+00,  1.23618949e+00,  1.23655617e+00,\n",
              "        1.24035411e+00,  1.25379046e+00,  1.25414979e+00,  1.25700473e+00,\n",
              "        1.26070067e+00,  1.26145966e+00,  1.26217013e+00,  1.26719290e+00,\n",
              "        1.26759511e+00,  1.27063654e+00,  1.27839951e+00,  1.28982050e+00,\n",
              "        1.30473998e+00,  1.31114268e+00,  1.31698268e+00,  1.31978843e+00,\n",
              "        1.32118287e+00,  1.32544458e+00,  1.33074887e+00,  1.33258771e+00,\n",
              "        1.33628809e+00,  1.33638760e+00,  1.34082582e+00,  1.34108300e+00,\n",
              "        1.35174853e+00,  1.35957190e+00,  1.37506268e+00,  1.38342479e+00,\n",
              "        1.40041020e+00,  1.41425981e+00,  1.41457217e+00,  1.42434970e+00,\n",
              "        1.43058175e+00,  1.44164541e+00,  1.44528695e+00,  1.44879475e+00,\n",
              "        1.45852603e+00,  1.46160642e+00,  1.46303782e+00,  1.46687545e+00,\n",
              "        1.47204081e+00,  1.47599085e+00,  1.48211247e+00,  1.48295605e+00,\n",
              "        1.49316768e+00,  1.50463315e+00,  1.50709804e+00,  1.51228193e+00,\n",
              "        1.51995671e+00,  1.54881072e+00,  1.55975146e+00,  1.56459964e+00,\n",
              "        1.57296932e+00,  1.58538898e+00,  1.58629995e+00,  1.58880823e+00,\n",
              "        1.60793399e+00,  1.61175739e+00,  1.63509823e+00,  1.63633523e+00,\n",
              "        1.63892271e+00,  1.64165395e+00,  1.64477363e+00,  1.64760449e+00,\n",
              "        1.64983107e+00,  1.65375871e+00,  1.67190932e+00,  1.68869732e+00,\n",
              "        1.70052871e+00,  1.70289353e+00,  1.71129063e+00,  1.72878610e+00,\n",
              "        1.72885178e+00,  1.73912139e+00,  1.74208441e+00,  1.74404650e+00,\n",
              "        1.76019745e+00,  1.76679070e+00,  1.77596916e+00,  1.78268106e+00,\n",
              "        1.79133051e+00,  1.80056758e+00,  1.80876165e+00,  1.82122372e+00,\n",
              "        1.83630032e+00,  1.83996995e+00,  1.88152833e+00,  1.90368194e+00,\n",
              "        1.91809925e+00,  1.92845640e+00,  1.93315431e+00,  1.93581221e+00,\n",
              "        1.94555501e+00,  2.00076167e+00,  2.03388507e+00,  2.03599757e+00,\n",
              "        2.03843636e+00,  2.08672652e+00,  2.09348491e+00,  2.09952427e+00,\n",
              "        2.12161905e+00,  2.17888861e+00,  2.19120069e+00,  2.20310366e+00,\n",
              "        2.37559037e+00,  2.38794563e+00,  2.45720488e+00,  2.48233740e+00,\n",
              "        2.50077963e+00,  2.50838561e+00,  2.59704416e+00,  2.91501597e+00,\n",
              "        3.03059050e+00,  3.05686984e+00,  3.21909770e+00,  3.66135157e+00])"
            ]
          },
          "metadata": {},
          "execution_count": 4
        }
      ]
    },
    {
      "cell_type": "code",
      "source": [
        "y=np.arange(len(x))/float(len(x))\n",
        "y"
      ],
      "metadata": {
        "colab": {
          "base_uri": "https://localhost:8080/"
        },
        "id": "rnIkCCu950du",
        "outputId": "954f70bb-d9c8-4c21-e103-2e2bf10a13c0"
      },
      "execution_count": null,
      "outputs": [
        {
          "output_type": "execute_result",
          "data": {
            "text/plain": [
              "array([0.   , 0.001, 0.002, 0.003, 0.004, 0.005, 0.006, 0.007, 0.008,\n",
              "       0.009, 0.01 , 0.011, 0.012, 0.013, 0.014, 0.015, 0.016, 0.017,\n",
              "       0.018, 0.019, 0.02 , 0.021, 0.022, 0.023, 0.024, 0.025, 0.026,\n",
              "       0.027, 0.028, 0.029, 0.03 , 0.031, 0.032, 0.033, 0.034, 0.035,\n",
              "       0.036, 0.037, 0.038, 0.039, 0.04 , 0.041, 0.042, 0.043, 0.044,\n",
              "       0.045, 0.046, 0.047, 0.048, 0.049, 0.05 , 0.051, 0.052, 0.053,\n",
              "       0.054, 0.055, 0.056, 0.057, 0.058, 0.059, 0.06 , 0.061, 0.062,\n",
              "       0.063, 0.064, 0.065, 0.066, 0.067, 0.068, 0.069, 0.07 , 0.071,\n",
              "       0.072, 0.073, 0.074, 0.075, 0.076, 0.077, 0.078, 0.079, 0.08 ,\n",
              "       0.081, 0.082, 0.083, 0.084, 0.085, 0.086, 0.087, 0.088, 0.089,\n",
              "       0.09 , 0.091, 0.092, 0.093, 0.094, 0.095, 0.096, 0.097, 0.098,\n",
              "       0.099, 0.1  , 0.101, 0.102, 0.103, 0.104, 0.105, 0.106, 0.107,\n",
              "       0.108, 0.109, 0.11 , 0.111, 0.112, 0.113, 0.114, 0.115, 0.116,\n",
              "       0.117, 0.118, 0.119, 0.12 , 0.121, 0.122, 0.123, 0.124, 0.125,\n",
              "       0.126, 0.127, 0.128, 0.129, 0.13 , 0.131, 0.132, 0.133, 0.134,\n",
              "       0.135, 0.136, 0.137, 0.138, 0.139, 0.14 , 0.141, 0.142, 0.143,\n",
              "       0.144, 0.145, 0.146, 0.147, 0.148, 0.149, 0.15 , 0.151, 0.152,\n",
              "       0.153, 0.154, 0.155, 0.156, 0.157, 0.158, 0.159, 0.16 , 0.161,\n",
              "       0.162, 0.163, 0.164, 0.165, 0.166, 0.167, 0.168, 0.169, 0.17 ,\n",
              "       0.171, 0.172, 0.173, 0.174, 0.175, 0.176, 0.177, 0.178, 0.179,\n",
              "       0.18 , 0.181, 0.182, 0.183, 0.184, 0.185, 0.186, 0.187, 0.188,\n",
              "       0.189, 0.19 , 0.191, 0.192, 0.193, 0.194, 0.195, 0.196, 0.197,\n",
              "       0.198, 0.199, 0.2  , 0.201, 0.202, 0.203, 0.204, 0.205, 0.206,\n",
              "       0.207, 0.208, 0.209, 0.21 , 0.211, 0.212, 0.213, 0.214, 0.215,\n",
              "       0.216, 0.217, 0.218, 0.219, 0.22 , 0.221, 0.222, 0.223, 0.224,\n",
              "       0.225, 0.226, 0.227, 0.228, 0.229, 0.23 , 0.231, 0.232, 0.233,\n",
              "       0.234, 0.235, 0.236, 0.237, 0.238, 0.239, 0.24 , 0.241, 0.242,\n",
              "       0.243, 0.244, 0.245, 0.246, 0.247, 0.248, 0.249, 0.25 , 0.251,\n",
              "       0.252, 0.253, 0.254, 0.255, 0.256, 0.257, 0.258, 0.259, 0.26 ,\n",
              "       0.261, 0.262, 0.263, 0.264, 0.265, 0.266, 0.267, 0.268, 0.269,\n",
              "       0.27 , 0.271, 0.272, 0.273, 0.274, 0.275, 0.276, 0.277, 0.278,\n",
              "       0.279, 0.28 , 0.281, 0.282, 0.283, 0.284, 0.285, 0.286, 0.287,\n",
              "       0.288, 0.289, 0.29 , 0.291, 0.292, 0.293, 0.294, 0.295, 0.296,\n",
              "       0.297, 0.298, 0.299, 0.3  , 0.301, 0.302, 0.303, 0.304, 0.305,\n",
              "       0.306, 0.307, 0.308, 0.309, 0.31 , 0.311, 0.312, 0.313, 0.314,\n",
              "       0.315, 0.316, 0.317, 0.318, 0.319, 0.32 , 0.321, 0.322, 0.323,\n",
              "       0.324, 0.325, 0.326, 0.327, 0.328, 0.329, 0.33 , 0.331, 0.332,\n",
              "       0.333, 0.334, 0.335, 0.336, 0.337, 0.338, 0.339, 0.34 , 0.341,\n",
              "       0.342, 0.343, 0.344, 0.345, 0.346, 0.347, 0.348, 0.349, 0.35 ,\n",
              "       0.351, 0.352, 0.353, 0.354, 0.355, 0.356, 0.357, 0.358, 0.359,\n",
              "       0.36 , 0.361, 0.362, 0.363, 0.364, 0.365, 0.366, 0.367, 0.368,\n",
              "       0.369, 0.37 , 0.371, 0.372, 0.373, 0.374, 0.375, 0.376, 0.377,\n",
              "       0.378, 0.379, 0.38 , 0.381, 0.382, 0.383, 0.384, 0.385, 0.386,\n",
              "       0.387, 0.388, 0.389, 0.39 , 0.391, 0.392, 0.393, 0.394, 0.395,\n",
              "       0.396, 0.397, 0.398, 0.399, 0.4  , 0.401, 0.402, 0.403, 0.404,\n",
              "       0.405, 0.406, 0.407, 0.408, 0.409, 0.41 , 0.411, 0.412, 0.413,\n",
              "       0.414, 0.415, 0.416, 0.417, 0.418, 0.419, 0.42 , 0.421, 0.422,\n",
              "       0.423, 0.424, 0.425, 0.426, 0.427, 0.428, 0.429, 0.43 , 0.431,\n",
              "       0.432, 0.433, 0.434, 0.435, 0.436, 0.437, 0.438, 0.439, 0.44 ,\n",
              "       0.441, 0.442, 0.443, 0.444, 0.445, 0.446, 0.447, 0.448, 0.449,\n",
              "       0.45 , 0.451, 0.452, 0.453, 0.454, 0.455, 0.456, 0.457, 0.458,\n",
              "       0.459, 0.46 , 0.461, 0.462, 0.463, 0.464, 0.465, 0.466, 0.467,\n",
              "       0.468, 0.469, 0.47 , 0.471, 0.472, 0.473, 0.474, 0.475, 0.476,\n",
              "       0.477, 0.478, 0.479, 0.48 , 0.481, 0.482, 0.483, 0.484, 0.485,\n",
              "       0.486, 0.487, 0.488, 0.489, 0.49 , 0.491, 0.492, 0.493, 0.494,\n",
              "       0.495, 0.496, 0.497, 0.498, 0.499, 0.5  , 0.501, 0.502, 0.503,\n",
              "       0.504, 0.505, 0.506, 0.507, 0.508, 0.509, 0.51 , 0.511, 0.512,\n",
              "       0.513, 0.514, 0.515, 0.516, 0.517, 0.518, 0.519, 0.52 , 0.521,\n",
              "       0.522, 0.523, 0.524, 0.525, 0.526, 0.527, 0.528, 0.529, 0.53 ,\n",
              "       0.531, 0.532, 0.533, 0.534, 0.535, 0.536, 0.537, 0.538, 0.539,\n",
              "       0.54 , 0.541, 0.542, 0.543, 0.544, 0.545, 0.546, 0.547, 0.548,\n",
              "       0.549, 0.55 , 0.551, 0.552, 0.553, 0.554, 0.555, 0.556, 0.557,\n",
              "       0.558, 0.559, 0.56 , 0.561, 0.562, 0.563, 0.564, 0.565, 0.566,\n",
              "       0.567, 0.568, 0.569, 0.57 , 0.571, 0.572, 0.573, 0.574, 0.575,\n",
              "       0.576, 0.577, 0.578, 0.579, 0.58 , 0.581, 0.582, 0.583, 0.584,\n",
              "       0.585, 0.586, 0.587, 0.588, 0.589, 0.59 , 0.591, 0.592, 0.593,\n",
              "       0.594, 0.595, 0.596, 0.597, 0.598, 0.599, 0.6  , 0.601, 0.602,\n",
              "       0.603, 0.604, 0.605, 0.606, 0.607, 0.608, 0.609, 0.61 , 0.611,\n",
              "       0.612, 0.613, 0.614, 0.615, 0.616, 0.617, 0.618, 0.619, 0.62 ,\n",
              "       0.621, 0.622, 0.623, 0.624, 0.625, 0.626, 0.627, 0.628, 0.629,\n",
              "       0.63 , 0.631, 0.632, 0.633, 0.634, 0.635, 0.636, 0.637, 0.638,\n",
              "       0.639, 0.64 , 0.641, 0.642, 0.643, 0.644, 0.645, 0.646, 0.647,\n",
              "       0.648, 0.649, 0.65 , 0.651, 0.652, 0.653, 0.654, 0.655, 0.656,\n",
              "       0.657, 0.658, 0.659, 0.66 , 0.661, 0.662, 0.663, 0.664, 0.665,\n",
              "       0.666, 0.667, 0.668, 0.669, 0.67 , 0.671, 0.672, 0.673, 0.674,\n",
              "       0.675, 0.676, 0.677, 0.678, 0.679, 0.68 , 0.681, 0.682, 0.683,\n",
              "       0.684, 0.685, 0.686, 0.687, 0.688, 0.689, 0.69 , 0.691, 0.692,\n",
              "       0.693, 0.694, 0.695, 0.696, 0.697, 0.698, 0.699, 0.7  , 0.701,\n",
              "       0.702, 0.703, 0.704, 0.705, 0.706, 0.707, 0.708, 0.709, 0.71 ,\n",
              "       0.711, 0.712, 0.713, 0.714, 0.715, 0.716, 0.717, 0.718, 0.719,\n",
              "       0.72 , 0.721, 0.722, 0.723, 0.724, 0.725, 0.726, 0.727, 0.728,\n",
              "       0.729, 0.73 , 0.731, 0.732, 0.733, 0.734, 0.735, 0.736, 0.737,\n",
              "       0.738, 0.739, 0.74 , 0.741, 0.742, 0.743, 0.744, 0.745, 0.746,\n",
              "       0.747, 0.748, 0.749, 0.75 , 0.751, 0.752, 0.753, 0.754, 0.755,\n",
              "       0.756, 0.757, 0.758, 0.759, 0.76 , 0.761, 0.762, 0.763, 0.764,\n",
              "       0.765, 0.766, 0.767, 0.768, 0.769, 0.77 , 0.771, 0.772, 0.773,\n",
              "       0.774, 0.775, 0.776, 0.777, 0.778, 0.779, 0.78 , 0.781, 0.782,\n",
              "       0.783, 0.784, 0.785, 0.786, 0.787, 0.788, 0.789, 0.79 , 0.791,\n",
              "       0.792, 0.793, 0.794, 0.795, 0.796, 0.797, 0.798, 0.799, 0.8  ,\n",
              "       0.801, 0.802, 0.803, 0.804, 0.805, 0.806, 0.807, 0.808, 0.809,\n",
              "       0.81 , 0.811, 0.812, 0.813, 0.814, 0.815, 0.816, 0.817, 0.818,\n",
              "       0.819, 0.82 , 0.821, 0.822, 0.823, 0.824, 0.825, 0.826, 0.827,\n",
              "       0.828, 0.829, 0.83 , 0.831, 0.832, 0.833, 0.834, 0.835, 0.836,\n",
              "       0.837, 0.838, 0.839, 0.84 , 0.841, 0.842, 0.843, 0.844, 0.845,\n",
              "       0.846, 0.847, 0.848, 0.849, 0.85 , 0.851, 0.852, 0.853, 0.854,\n",
              "       0.855, 0.856, 0.857, 0.858, 0.859, 0.86 , 0.861, 0.862, 0.863,\n",
              "       0.864, 0.865, 0.866, 0.867, 0.868, 0.869, 0.87 , 0.871, 0.872,\n",
              "       0.873, 0.874, 0.875, 0.876, 0.877, 0.878, 0.879, 0.88 , 0.881,\n",
              "       0.882, 0.883, 0.884, 0.885, 0.886, 0.887, 0.888, 0.889, 0.89 ,\n",
              "       0.891, 0.892, 0.893, 0.894, 0.895, 0.896, 0.897, 0.898, 0.899,\n",
              "       0.9  , 0.901, 0.902, 0.903, 0.904, 0.905, 0.906, 0.907, 0.908,\n",
              "       0.909, 0.91 , 0.911, 0.912, 0.913, 0.914, 0.915, 0.916, 0.917,\n",
              "       0.918, 0.919, 0.92 , 0.921, 0.922, 0.923, 0.924, 0.925, 0.926,\n",
              "       0.927, 0.928, 0.929, 0.93 , 0.931, 0.932, 0.933, 0.934, 0.935,\n",
              "       0.936, 0.937, 0.938, 0.939, 0.94 , 0.941, 0.942, 0.943, 0.944,\n",
              "       0.945, 0.946, 0.947, 0.948, 0.949, 0.95 , 0.951, 0.952, 0.953,\n",
              "       0.954, 0.955, 0.956, 0.957, 0.958, 0.959, 0.96 , 0.961, 0.962,\n",
              "       0.963, 0.964, 0.965, 0.966, 0.967, 0.968, 0.969, 0.97 , 0.971,\n",
              "       0.972, 0.973, 0.974, 0.975, 0.976, 0.977, 0.978, 0.979, 0.98 ,\n",
              "       0.981, 0.982, 0.983, 0.984, 0.985, 0.986, 0.987, 0.988, 0.989,\n",
              "       0.99 , 0.991, 0.992, 0.993, 0.994, 0.995, 0.996, 0.997, 0.998,\n",
              "       0.999])"
            ]
          },
          "metadata": {},
          "execution_count": 5
        }
      ]
    },
    {
      "cell_type": "code",
      "source": [
        "plt.plot(x,y,marker='.',linestyle='none')\n",
        "plt.grid(True)\n",
        "plt.title('CDf')"
      ],
      "metadata": {
        "colab": {
          "base_uri": "https://localhost:8080/",
          "height": 469
        },
        "id": "UKXY7oz359fX",
        "outputId": "b25aa4d0-ee4e-4829-cef4-893594ddbeca"
      },
      "execution_count": null,
      "outputs": [
        {
          "output_type": "execute_result",
          "data": {
            "text/plain": [
              "Text(0.5, 1.0, 'CDf')"
            ]
          },
          "metadata": {},
          "execution_count": 6
        },
        {
          "output_type": "display_data",
          "data": {
            "text/plain": [
              "<Figure size 640x480 with 1 Axes>"
            ],
            "image/png": "[encoded data removed]"
          },
          "metadata": {}
        }
      ]
    },
    {
      "cell_type": "code",
      "source": [
        "import numpy as np\n",
        "import scipy.stats as stats\n",
        "data=np.array([3,4,3.5,2,5,4.5,3])\n",
        "#hypothesis testing\n",
        "# null hypothesis:the mean of this data is 3.5\n",
        "# alternate hypothesis testing: the mean of this data is not 3.5(oppsite of the null hypothesis)\n",
        "null_hypothesis_mean=3.5\n",
        "t_statistic,p_value=stats.ttest_1samp(data,null_hypothesis_mean)\n",
        "print(f\"t_value:{t_statistic}\")\n",
        "print(f\"p_value:{p_value}\")"
      ],
      "metadata": {
        "colab": {
          "base_uri": "https://localhost:8080/"
        },
        "id": "5ehGeqbO6GXS",
        "outputId": "3c1696b5-2da7-4053-e4d6-e411e9985b3c"
      },
      "execution_count": null,
      "outputs": [
        {
          "output_type": "stream",
          "name": "stdout",
          "text": [
            "t_value:0.18569533817705233\n",
            "p_value:0.8588023462414147\n"
          ]
        }
      ]
    },
    {
      "cell_type": "code",
      "source": [
        "# now decide whether to accept or reject the null hypothesis\n",
        "alpha=0.05\n",
        "if p_value < alpha:\n",
        "  print(\"reject the null hypothesis\")\n",
        "else:\n",
        "    print(\"fail to reject the null hypothesis\")"
      ],
      "metadata": {
        "colab": {
          "base_uri": "https://localhost:8080/"
        },
        "id": "MZqwD4oU9J_D",
        "outputId": "a2955964-6b40-4d5f-fa54-2a607d0a9bf9"
      },
      "execution_count": null,
      "outputs": [
        {
          "output_type": "stream",
          "name": "stdout",
          "text": [
            "fail to reject the null hypothesis\n"
          ]
        }
      ]
    },
    {
      "cell_type": "code",
      "source": [
        "import numpy as np\n",
        "import scipy.stats as stats\n",
        "data=np.array([3,4,3.5,2,5,4.5,3])"
      ],
      "metadata": {
        "id": "dGjzvQy_E4L6"
      },
      "execution_count": null,
      "outputs": []
    },
    {
      "cell_type": "code",
      "source": [
        "xbar=np.mean(data)\n",
        "mu=3.5"
      ],
      "metadata": {
        "id": "kYKZQZ0iJRvO"
      },
      "execution_count": null,
      "outputs": []
    },
    {
      "cell_type": "code",
      "source": [
        "s=np.std(data)\n",
        "n=len(data)\n",
        "#now calculate the value of t parameter\n",
        "t=(xbar-mu)/(s*np.sqrt(n))\n",
        "print(\"the value of t-parameter is:\",t)"
      ],
      "metadata": {
        "colab": {
          "base_uri": "https://localhost:8080/"
        },
        "id": "pb-wiCjbK8Xr",
        "outputId": "7c6be87c-0fad-42ec-b63a-a459ed6572c7"
      },
      "execution_count": null,
      "outputs": [
        {
          "output_type": "stream",
          "name": "stdout",
          "text": [
            "the value of t-parameter is: 0.028653412753062716\n"
          ]
        }
      ]
    },
    {
      "cell_type": "code",
      "source": [],
      "metadata": {
        "id": "9t9DD7NcMP2y"
      },
      "execution_count": null,
      "outputs": []
    }
  ]
}