{
  "nbformat": 4,
  "nbformat_minor": 0,
  "metadata": {
    "colab": {
      "provenance": [],
      "authorship_tag": "ABX9TyNlx4/Uh88aBO5AkM2KHYfI",
      "include_colab_link": true
    },
    "kernelspec": {
      "name": "python3",
      "display_name": "Python 3"
    },
    "language_info": {
      "name": "python"
    }
  },
  "cells": [
    {
      "cell_type": "markdown",
      "metadata": {
        "id": "view-in-github",
        "colab_type": "text"
      },
      "source": [
        "<a href=\"https://colab.research.google.com/github/Inayat2/statistics/blob/main/statistic_annova_ipynb.ipynb\" target=\"_parent\"><img src=\"https://colab.research.google.com/assets/colab-badge.svg\" alt=\"Open In Colab\"/></a>"
      ]
    },
    {
      "cell_type": "code",
      "execution_count": null,
      "metadata": {
        "id": "ealM6C5rZtie"
      },
      "outputs": [],
      "source": [
        "import pandas as pd\n",
        "from scipy import stats\n",
        "data={'group A': ['88','92','75','85','78'],\n",
        "      'group B': ['8','18','28','45','56'],\n",
        "      'group C': ['85','87','90','92','95']}\n",
        "df=pd.DataFrame(data)\n"
      ]
    },
    {
      "cell_type": "code",
      "source": [
        "f_value,p_value = stats.f_oneway(df['group A'], df['group B'], df['group C'] )\n",
        "print(f\"f_value:{f_value}, p_value: {p_value}\")\n"
      ],
      "metadata": {
        "colab": {
          "base_uri": "https://localhost:8080/"
        },
        "id": "snCLgMaqZ6hE",
        "outputId": "d3932e4b-fd47-472e-db43-ddf74d95e0c6"
      },
      "execution_count": null,
      "outputs": [
        {
          "output_type": "stream",
          "name": "stdout",
          "text": [
            "f_value:35.02595078299768, p_value: 9.784881583163365e-06\n"
          ]
        }
      ]
    },
    {
      "cell_type": "code",
      "source": [
        "alpha=0.05\n",
        "if p_value > alpha:\n",
        "   print('greater')\n",
        "if p_value < alpha:\n",
        "   print('lesser')\n"
      ],
      "metadata": {
        "colab": {
          "base_uri": "https://localhost:8080/"
        },
        "id": "4J9JWmQkdP1J",
        "outputId": "d058356b-decc-4978-a14b-3bcd235476fe"
      },
      "execution_count": null,
      "outputs": [
        {
          "output_type": "stream",
          "name": "stdout",
          "text": [
            "lesser\n"
          ]
        }
      ]
    },
    {
      "cell_type": "code",
      "source": [
        "import numpy as np"
      ],
      "metadata": {
        "id": "7IS0C-INhcsM"
      },
      "execution_count": null,
      "outputs": []
    },
    {
      "cell_type": "code",
      "source": [
        "from scipy.stats import chi2\n",
        "import numpy as np"
      ],
      "metadata": {
        "id": "7H8DvLGyNy0D"
      },
      "execution_count": null,
      "outputs": []
    },
    {
      "cell_type": "code",
      "source": [
        "import numpy as numpy"
      ],
      "metadata": {
        "id": "SlpbvUQzeELS"
      },
      "execution_count": null,
      "outputs": []
    },
    {
      "cell_type": "code",
      "source": [
        "import matplotlib.pyplot as   plt\n",
        "from sklearn.decomposition import PCA\n",
        "from sklearn.datasets import make_blobs"
      ],
      "metadata": {
        "id": "OBWSzH8nKicG"
      },
      "execution_count": null,
      "outputs": []
    },
    {
      "cell_type": "code",
      "source": [
        "#generate a synthetic dataset"
      ],
      "metadata": {
        "id": "blrRmIgNKxFF"
      },
      "execution_count": null,
      "outputs": []
    },
    {
      "cell_type": "code",
      "source": [
        "X,_=make_blobs(n_samples=100,centers=10,cluster_std=0.5, random_state=0)\n",
        "X"
      ],
      "metadata": {
        "colab": {
          "base_uri": "https://localhost:8080/"
        },
        "id": "W1yzfDGsLbjT",
        "outputId": "4a29fe60-8daf-446a-e282-5972667c2bc5"
      },
      "execution_count": null,
      "outputs": [
        {
          "output_type": "execute_result",
          "data": {
            "text/plain": [
              "array([[  1.42886984,   1.28640884],\n",
              "       [ -2.34200319,   3.14927339],\n",
              "       [ -1.44984425,   8.44668255],\n",
              "       [  1.2483186 ,   0.79129352],\n",
              "       [ -1.86313424,   2.73810568],\n",
              "       [ -1.32573319,   2.57547722],\n",
              "       [  5.98361985,   1.24109134],\n",
              "       [  1.32677042,   9.36860413],\n",
              "       [ -8.82829506,  -7.29264798],\n",
              "       [  1.31166496,   8.18019362],\n",
              "       [  1.20213243,   1.87305136],\n",
              "       [  1.60753424,   1.09111491],\n",
              "       [ -1.14411829,   8.32377953],\n",
              "       [  6.02271353,   0.028198  ],\n",
              "       [  5.44954272,   0.84752299],\n",
              "       [ -1.93347715,   2.05474096],\n",
              "       [ -0.30022483,   4.63059663],\n",
              "       [  6.64475299,   8.06850694],\n",
              "       [  5.51657772,   0.91611504],\n",
              "       [  5.55097196,   7.03122751],\n",
              "       [  2.55246361,   8.98417251],\n",
              "       [ -9.77262901,   5.96492126],\n",
              "       [  1.80044143,   0.67862651],\n",
              "       [  6.30812675,   0.50039335],\n",
              "       [  8.68669351,  -1.35935903],\n",
              "       [  5.09091189,   7.19521812],\n",
              "       [  6.17064814,   0.78162931],\n",
              "       [  0.61526243,   8.73162862],\n",
              "       [  1.55889458,   7.96540201],\n",
              "       [  9.13925352,  -1.92994143],\n",
              "       [  1.86160411,   0.74651228],\n",
              "       [-10.24206051,   6.78592235],\n",
              "       [  8.84264237,  -1.37613715],\n",
              "       [  0.70293752,   8.28114046],\n",
              "       [ -8.15086353,  -8.5829268 ],\n",
              "       [  2.04117641,   1.1118296 ],\n",
              "       [ -9.61527346,   6.06835016],\n",
              "       [ -9.15301316,  -8.47632403],\n",
              "       [  9.33671126,  -2.13017494],\n",
              "       [ -1.16235873,   2.98237372],\n",
              "       [ -1.84406506,   2.73651168],\n",
              "       [ -9.09640026,  -7.91661675],\n",
              "       [ 10.23472622,  -1.59091223],\n",
              "       [ -8.11884942,  -8.09805018],\n",
              "       [  0.5323772 ,   3.31338909],\n",
              "       [ -1.68365435,   7.54603518],\n",
              "       [  6.01822447,   7.55885207],\n",
              "       [  5.61692399,   1.50253026],\n",
              "       [ -9.1919966 ,  -7.83523252],\n",
              "       [ -9.07938651,  -9.02979955],\n",
              "       [  9.06644572,  -2.70489703],\n",
              "       [ -1.8308307 ,   8.28587326],\n",
              "       [ -1.9805532 ,   2.94385496],\n",
              "       [  2.11114739,   3.57660449],\n",
              "       [ -0.95720367,   2.30046935],\n",
              "       [ -1.01542455,   7.06733817],\n",
              "       [  9.27850522,  -1.43823438],\n",
              "       [ -0.50412968,   8.7834046 ],\n",
              "       [ -7.98526394,  -8.0989427 ],\n",
              "       [  1.74265969,   5.03846671],\n",
              "       [  0.99914934,   4.2101954 ],\n",
              "       [ -8.10456843,  -8.21363839],\n",
              "       [-10.14782372,   6.67847945],\n",
              "       [ -9.28301633,   5.85136808],\n",
              "       [ -1.43819094,   2.71699179],\n",
              "       [ -1.07007258,   8.1887466 ],\n",
              "       [  5.88320078,   6.59176494],\n",
              "       [  1.13280393,   3.87673946],\n",
              "       [  5.49733443,   0.59381367],\n",
              "       [  1.53099104,   0.18765469],\n",
              "       [ -9.33399372,   6.56662375],\n",
              "       [  6.11296482,   7.72787483],\n",
              "       [  1.79986495,   0.30734757],\n",
              "       [ -0.65886599,   7.7454976 ],\n",
              "       [  1.64918663,   8.40778339],\n",
              "       [  5.70309732,   7.35116777],\n",
              "       [ -8.01596087,  -8.79737976],\n",
              "       [  5.956299  ,   7.16703342],\n",
              "       [ -1.40403204,   7.86354269],\n",
              "       [  1.44422797,   8.82944848],\n",
              "       [  8.63801271,  -1.84647127],\n",
              "       [  2.67041286,   1.49885358],\n",
              "       [ 10.20703469,  -1.87814729],\n",
              "       [ -9.99733688,   6.30762202],\n",
              "       [  0.98851381,   8.0987135 ],\n",
              "       [  5.3785441 ,   7.28055338],\n",
              "       [  5.94903029,   7.81199504],\n",
              "       [  0.90448011,   9.07044091],\n",
              "       [ 10.21483056,  -3.00504915],\n",
              "       [  1.40848818,   3.93270482],\n",
              "       [ -1.4936454 ,   3.06911821],\n",
              "       [ -9.8233983 ,   6.66113649],\n",
              "       [ -1.78363209,   8.36268588],\n",
              "       [ -9.91744125,   5.54069533],\n",
              "       [  1.72330962,   4.2012082 ],\n",
              "       [  5.48721683,   0.50308112],\n",
              "       [  0.802314  ,   4.38196181],\n",
              "       [  1.05374379,   4.49286859],\n",
              "       [ -9.96541355,   7.42390421],\n",
              "       [  6.14154045,   1.03900173]])"
            ]
          },
          "metadata": {},
          "execution_count": 14
        }
      ]
    },
    {
      "cell_type": "code",
      "source": [
        "#VISUALISATION"
      ],
      "metadata": {
        "id": "amiTuJZsMiAG"
      },
      "execution_count": null,
      "outputs": []
    },
    {
      "cell_type": "code",
      "source": [],
      "metadata": {
        "id": "872WVw_7WpQV"
      },
      "execution_count": null,
      "outputs": []
    },
    {
      "cell_type": "code",
      "source": [
        "plt.figure(figsize=(10,7))\n",
        "plt.scatter(X[:,0],X[:,1])\n",
        "plt.grid(True)\n",
        "plt.show()"
      ],
      "metadata": {
        "colab": {
          "base_uri": "https://localhost:8080/",
          "height": 599
        },
        "id": "JorkUUOBNJOC",
        "outputId": "23f752fd-6c9c-4a95-e5ef-3c1dcef58ca5"
      },
      "execution_count": null,
      "outputs": [
        {
          "output_type": "display_data",
          "data": {
            "text/plain": [
              "<Figure size 1000x700 with 1 Axes>"
            ],
            "image/png": "[encoded data removed]"
          },
          "metadata": {}
        }
      ]
    },
    {
      "cell_type": "code",
      "source": [
        "pca=PCA(n_components=2)"
      ],
      "metadata": {
        "id": "LOdCHizLXKMh"
      },
      "execution_count": null,
      "outputs": []
    },
    {
      "cell_type": "code",
      "source": [
        "X_pca=pca.fit_transform(X)"
      ],
      "metadata": {
        "id": "sy0_9PBVWqpO"
      },
      "execution_count": null,
      "outputs": []
    },
    {
      "cell_type": "code",
      "source": [
        "plt.figure(figsize=(10,7))\n",
        "plt.scatter(X_pca[:,0],X_pca[:,1])\n",
        "plt.grid(True)\n",
        "plt.show()"
      ],
      "metadata": {
        "colab": {
          "base_uri": "https://localhost:8080/",
          "height": 599
        },
        "id": "iHXwv3glXE_y",
        "outputId": "8954355b-efcc-4e84-95ee-760ad3baa9c2"
      },
      "execution_count": null,
      "outputs": [
        {
          "output_type": "display_data",
          "data": {
            "text/plain": [
              "<Figure size 1000x700 with 1 Axes>"
            ],
            "image/png": "[encoded data removed]"
          },
          "metadata": {}
        }
      ]
    },
    {
      "cell_type": "markdown",
      "source": [
        "#steps for performing pca . pca is a stastical procedure that uses an orthogovernal transformation to convert a set of observations of possibly co related variables into a set of values of linearly un co related variables called principle components.\n",
        "#steps in performing pca.\n",
        " 1) data standardations\n",
        " 2) compute the co variance matrix\n",
        " 3) calculate the eigen vectors of co variance  matrix\n",
        " 4) sort eigen values and their corresponding eigen vectors\n",
        " 5) construct the projecton matrix\n",
        " 6) transform the original data set\n",
        "\n",
        " ###k-means clustering (unsupervised)\n"
      ],
      "metadata": {
        "id": "65maVEIKipPe"
      }
    },
    {
      "cell_type": "code",
      "source": [
        "!pip install scikit-learn\n"
      ],
      "metadata": {
        "colab": {
          "base_uri": "https://localhost:8080/"
        },
        "id": "LLgausMfnW1w",
        "outputId": "745ef181-c027-4a24-8ae9-fcf0b2716826"
      },
      "execution_count": null,
      "outputs": [
        {
          "output_type": "stream",
          "name": "stdout",
          "text": [
            "Requirement already satisfied: scikit-learn in /usr/local/lib/python3.10/dist-packages (1.2.2)\n",
            "Requirement already satisfied: numpy>=1.17.3 in /usr/local/lib/python3.10/dist-packages (from scikit-learn) (1.25.2)\n",
            "Requirement already satisfied: scipy>=1.3.2 in /usr/local/lib/python3.10/dist-packages (from scikit-learn) (1.11.4)\n",
            "Requirement already satisfied: joblib>=1.1.1 in /usr/local/lib/python3.10/dist-packages (from scikit-learn) (1.3.2)\n",
            "Requirement already satisfied: threadpoolctl>=2.0.0 in /usr/local/lib/python3.10/dist-packages (from scikit-learn) (3.3.0)\n"
          ]
        }
      ]
    },
    {
      "cell_type": "code",
      "source": [
        "import pandas as pd\n",
        "from sklearn.cluster import KMeans\n",
        "from sklearn.preprocessing import StandardScaler\n",
        "import matplotlib.pyplot as plt\n"
      ],
      "metadata": {
        "id": "BwKedFhvnXqX"
      },
      "execution_count": null,
      "outputs": []
    },
    {
      "cell_type": "code",
      "source": [
        "import numpy as np"
      ],
      "metadata": {
        "id": "uGZv9K2rnvjO"
      },
      "execution_count": null,
      "outputs": []
    },
    {
      "cell_type": "code",
      "source": [
        "import numpy as np\n",
        "states =  ['Sunny','Rainy','Cloudy']"
      ],
      "metadata": {
        "id": "t4JZdf_s9XRz"
      },
      "execution_count": null,
      "outputs": []
    },
    {
      "cell_type": "code",
      "source": [
        "Transition_matrix=np.array([[0.5,0.25,0.5],\n",
        "                           [0.5,0.25,0.25],\n",
        "                           [0.25,0.25,0.5]])"
      ],
      "metadata": {
        "id": "lxDxH8C79l9-"
      },
      "execution_count": null,
      "outputs": []
    },
    {
      "cell_type": "code",
      "source": [
        "import numpy as np\n",
        "states =  ['Sunny','Rainy','Cloudy']\n",
        "Transition_matrix=np.array([[0.5,0.25,0.25],\n",
        "                               [0.5,0.25,0.25],\n",
        "                               [0.25,0.25,0.5]])\n",
        "\n",
        "def simulate_weather(days,start_state=0):\n",
        "    current_state=start_state\n",
        "    weather_sequence=[states[current_state]]\n",
        "    for _ in range(days): # Change this line to range(days)\n",
        "        current_state=np.random.choice([0,1,2],p=Transition_matrix[current_state])\n",
        "        weather_sequence.append(states[current_state])\n",
        "    return weather_sequence"
      ],
      "metadata": {
        "id": "OydG2fonASr-"
      },
      "execution_count": null,
      "outputs": []
    },
    {
      "cell_type": "code",
      "source": [
        "days = 10\n",
        "start_state = 0\n",
        "weather_sequence = simulate_weather(days,start_state)\n",
        "print(weather_sequence)"
      ],
      "metadata": {
        "colab": {
          "base_uri": "https://localhost:8080/"
        },
        "id": "9HhNUAM1BXOR",
        "outputId": "3f4fc13c-0f37-4634-ac1f-6e6793e805b3"
      },
      "execution_count": null,
      "outputs": [
        {
          "output_type": "stream",
          "name": "stdout",
          "text": [
            "['Sunny', 'Rainy', 'Rainy', 'Sunny', 'Rainy', 'Sunny', 'Sunny', 'Sunny', 'Rainy', 'Sunny', 'Cloudy']\n"
          ]
        }
      ]
    },
    {
      "cell_type": "code",
      "source": [],
      "metadata": {
        "id": "nT4IhE_yCZJt"
      },
      "execution_count": null,
      "outputs": []
    }
  ]
}